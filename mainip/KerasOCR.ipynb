{
 "cells": [
  {
   "cell_type": "code",
   "execution_count": null,
   "metadata": {},
   "outputs": [],
   "source": [
    "import numpy as np\n",
    "pipeline = keras_ocr.pipeline.Pipeline()\n",
    "images = [\n",
    "    keras_ocr.tools.read(img) for img in [\n",
    "        path+img6, path+img3,path+img1,path+img5\n",
    "    ]\n",
    "]\n",
    "prediction = pipeline.recognize(images)\n",
    "prediction"
   ]
  },
  {
   "cell_type": "code",
   "execution_count": null,
   "metadata": {},
   "outputs": [],
   "source": [
    "import matplotlib.pyplot as plt\n",
    "import cv2\n",
    "import keras_ocr\n",
    "\n",
    "pipeline = keras_ocr.pipeline.Pipeline()\n",
    "\n",
    "\n",
    "images = [\n",
    "    keras_ocr.tools.read(img) for img in [\n",
    "        path+img6, path+img3,path+img1,path+img5\n",
    "    ]\n",
    "]\n",
    "prediction_groups = pipeline.recognize(images)\n",
    "\n",
    "fig, axs = plt.subplots(nrows=len(images), figsize=(20, 20))\n",
    "for ax, image, predictions in zip(axs, images, prediction_groups):\n",
    "    keras_ocr.tools.drawAnnotations(image=image, predictions=predictions, ax=ax)"
   ]
  }
 ],
 "metadata": {
  "kernelspec": {
   "display_name": "3.11.1",
   "language": "python",
   "name": "python3"
  },
  "language_info": {
   "name": "python",
   "version": "3.11.1"
  }
 },
 "nbformat": 4,
 "nbformat_minor": 2
}
